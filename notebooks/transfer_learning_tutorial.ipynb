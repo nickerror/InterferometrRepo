{
  "cells": [
    {
      "cell_type": "code",
      "execution_count": null,
      "metadata": {
        "collapsed": false
      },
      "outputs": [],
      "source": [
        "%matplotlib inline"
      ]
    },
    {
      "cell_type": "code",
      "execution_count": null,
      "metadata": {
        "collapsed": false
      },
      "outputs": [],
      "source": [
        "# License: BSD\n",
        "# Author: Sasank Chilamkurthy\n",
        "\n",
        "from __future__ import print_function, division\n",
        "\n",
        "import torch\n",
        "import torch.nn as nn\n",
        "import torch.optim as optim\n",
        "from torch.optim import lr_scheduler\n",
        "import numpy as np\n",
        "import torchvision\n",
        "from torchvision import datasets, models, transforms\n",
        "import matplotlib.pyplot as plt\n",
        "import time\n",
        "import os\n",
        "import copy\n",
        "import pandas as pd\n",
        "import cv2\n",
        "import PIL\n",
        "import math\n"
      ]
    },
    {
      "cell_type": "code",
      "execution_count": null,
      "metadata": {},
      "outputs": [],
      "source": [
        "device = torch.device(\"cuda:0\" if torch.cuda.is_available() else \"cpu\")\n",
        "\n",
        "class Config:\n",
        "    def __init__(self):\n",
        "        self.epochs = 20\n",
        "        self.cuda=True\n",
        "        self.num_classes = 1\n",
        "        self.batch_size = 4\n",
        "        self.learning_rate = 0.01\n",
        "        self.dataset = \"InterferometerPhoto\"\n",
        "        #self.architecture = \"CNN\"\n",
        "        self.pin_memory = True\n",
        "        self.momentum = 0.9\n",
        "        self.step_size = 3\n",
        "        self.gamma = 0.1\n",
        "        self.dataset_metadata = \"../data/raw/1channel/reference/epsilon.csv\" # will change for processed\n",
        "        self.num_workers = 0\n",
        "        self.data_root_dir = \"../data/raw/1channel/photo\" # will change for processed\n",
        "        self.data_transforms = transforms.Compose([\n",
        "                #transforms.CenterCrop(448),\n",
        "                #transforms.Resize(224),#############################Lub od razu centercrop(224)\n",
        "                transforms.CenterCrop(224),\n",
        "                transforms.ToTensor(),\n",
        "                transforms.Normalize(mean=[0.491, 0.491, 0.491],\n",
        "                                      std=[0.210, 0.210, 0.210]) \n",
        "                #transforms.Normalize([0.485, 0.456, 0.406], [0.229, 0.224, 0.225])\n",
        "            ])\n",
        "\n",
        "class EpsilonDataset(torch.utils.data.Dataset):\n",
        "    def __init__(self, root_dir, annotation_file, transform=None):\n",
        "        self.root_dir = root_dir\n",
        "        #self.annotations = pd.read_csv(annotation_file,skiprows=1)\n",
        "        self.annotations = pd.read_csv(annotation_file,skiprows=0, delim_whitespace=' ')\n",
        "        self.transform = transform\n",
        "\n",
        "    def __len__(self):\n",
        "        return len(self.annotations)\n",
        "\n",
        "    def __getitem__(self, index):\n",
        "        img = np.array(cv2.imread(os.path.join(self.root_dir, str(str(\"%05d\" %self.annotations.imgnr[index]))+ \".png\"))).astype(np.float32)\n",
        "        img=PIL.Image.fromarray(np.uint8(img))\n",
        "        y_label = self.annotations.eps[index]\n",
        "        if self.transform is not None:\n",
        "            img = self.transform(img)\n",
        "        return img, y_label\n",
        "\n",
        "def prepare_data(config):\n",
        "    #dataset --> Photos from interferometer\n",
        "    dataset = EpsilonDataset(config.data_root_dir, config.dataset_metadata, transform=config.data_transforms)\n",
        "\n",
        "    g = torch.Generator(device=device).manual_seed(0)\n",
        "    datasetLen=dataset.__len__()\n",
        "    trainLen=int(0.8*datasetLen)\n",
        "    valLen=int(0.2*datasetLen)\n",
        "    testLen=int(0.0*datasetLen)\n",
        "\n",
        "    mean=0\n",
        "    std=0\n",
        "    trainSize=0.8\n",
        "    valSize=0.2\n",
        "    trainIndex, valIndex, testIndex=[],[],[]\n",
        "\n",
        "    for i in range (datasetLen):\n",
        "        randomNumber=np.random.rand()\n",
        "        #print(randomNumber)\n",
        "        if(randomNumber<trainSize): trainIndex.append(i)\n",
        "        else: valIndex.append(i)\n",
        "        img,epsilon=dataset[i]\n",
        "        img=np.array(img)\n",
        "        mean+=np.mean(img)\n",
        "        std+=np.std(img)\n",
        "        \n",
        "    valIndex=trainIndex\n",
        "\n",
        "    mean=mean/datasetLen#/255\n",
        "    std=std/datasetLen#/255\n",
        "    #print(\"mean, std:\",mean, std)\n",
        "    #trainIndex=valIndex\n",
        "    #testIndex=valIndex\n",
        "    loader_params = dict(dataset=dataset, batch_size=config.batch_size, num_workers=config.num_workers,\n",
        "                         pin_memory=config.pin_memory, generator=g, shuffle=False)\n",
        "    train_loader = torch.utils.data.DataLoader(**loader_params, sampler=trainIndex )\n",
        "    validation_loader = torch.utils.data.DataLoader(**loader_params, sampler=valIndex )\n",
        "    test_loader = torch.utils.data.DataLoader(**loader_params, sampler=testIndex)\n",
        "    return {'train': train_loader, 'val': validation_loader, 'test': test_loader}\n",
        "\n"
      ]
    },
    {
      "cell_type": "markdown",
      "metadata": {},
      "source": [
        "Load Data"
      ]
    },
    {
      "cell_type": "code",
      "execution_count": null,
      "metadata": {
        "collapsed": false
      },
      "outputs": [],
      "source": [
        "config=Config()\n",
        "\n",
        "\n",
        "#image_datasets = {x: datasets.ImageFolder(os.path.join(data_dir, x),\n",
        "#                                          data_transforms[x])\n",
        "#                  for x in ['train', 'val']}\n",
        "dataloaders = prepare_data(config)\n",
        "dataset_sizes = {x: len(dataloaders[x]) for x in ['train', 'val']}\n",
        "#class_names = image_datasets['train'].classes\n",
        "\n",
        "\n",
        "print(\"Device: \", device)\n",
        "print(\"Dataloader train len: \", len(dataloaders[\"train\"]), \"val len: \", len(dataloaders[\"val\"]))\n"
      ]
    },
    {
      "cell_type": "markdown",
      "metadata": {},
      "source": [
        "Training the model\n",
        "------------------\n",
        "\n",
        "Now, let's write a general function to train a model. Here, we will\n",
        "illustrate:\n",
        "\n",
        "-  Scheduling the learning rate\n",
        "-  Saving the best model\n",
        "\n",
        "In the following, parameter ``scheduler`` is an LR scheduler object from\n",
        "``torch.optim.lr_scheduler``.\n",
        "\n"
      ]
    },
    {
      "cell_type": "code",
      "execution_count": null,
      "metadata": {
        "collapsed": false
      },
      "outputs": [],
      "source": [
        "def customLossFunction(outputs, labels):\n",
        "    totalLoss=0.0\n",
        "    #print(len(outputs))\n",
        "    for i in range (len(outputs)):\n",
        "        loss=min(abs(abs(labels[i]%1-outputs[i]%1)), 1-(labels[i]%1-outputs[i]%1) )\n",
        "        totalLoss+=loss\n",
        "        #totalLoss=(100*loss)*(100*loss)\n",
        "    totalLoss/=len(outputs)\n",
        "    #totalLoss=math.sqrt(totalLoss)\n",
        "    return totalLoss\n",
        "\n",
        "def train_model(model, criterion, optimizer, scheduler, num_epochs=25):\n",
        "    since = time.time()\n",
        "\n",
        "    best_model_wts = copy.deepcopy(model.state_dict())\n",
        "    best_acc = 0.0\n",
        "\n",
        "    for epoch in range(num_epochs):\n",
        "        print('Epoch {}/{}'.format(epoch, num_epochs - 1))\n",
        "        print('-' * 10)\n",
        "\n",
        "        # Each epoch has a training and validation phase\n",
        "        for phase in ['train', 'val']:\n",
        "            if phase == 'train':\n",
        "                model.train()  # Set model to training mode\n",
        "            else:\n",
        "                model.eval()   # Set model to evaluate mode\n",
        "\n",
        "            running_loss = 0.0\n",
        "            running_corrects = 0\n",
        "\n",
        "            # Iterate over data.\n",
        "            for inputs, labels in dataloaders[phase]:\n",
        "                inputs = inputs.to(device)\n",
        "                labels = labels.to(device)\n",
        "\n",
        "                # zero the parameter gradients\n",
        "                optimizer.zero_grad()\n",
        "\n",
        "                # forward\n",
        "                # track history if only in train\n",
        "                with torch.set_grad_enabled(phase == 'train'):\n",
        "                    outputs = model(inputs)\n",
        "                    #_, preds = torch.max(outputs, 1)\n",
        "                    loss = criterion(outputs, labels)\n",
        "\n",
        "                    # backward + optimize only if in training phase\n",
        "                    if phase == 'train':\n",
        "                        loss.backward()\n",
        "                        optimizer.step()\n",
        "\n",
        "                # statistics\n",
        "                running_loss+=loss\n",
        "                #running_loss += loss.item() * inputs.size(0)\n",
        "                #running_corrects += torch.sum(preds == labels.data)\n",
        "            if phase == 'train':\n",
        "                scheduler.step()\n",
        "\n",
        "            epoch_loss = running_loss / dataset_sizes[phase]\n",
        "            epoch_acc = 1-epoch_loss#running_corrects.double() / dataset_sizes[phase]\n",
        "\n",
        "            print('{} Loss: {:.4f} Acc: {:.4f}'.format(\n",
        "                str(phase), float(epoch_loss), float(epoch_acc)))\n",
        "\n",
        "            # deep copy the model\n",
        "            if phase == 'val' and epoch_acc > best_acc:\n",
        "                best_acc = epoch_acc\n",
        "                best_model_wts = copy.deepcopy(model.state_dict())\n",
        "\n",
        "        print()\n",
        "\n",
        "    time_elapsed = time.time() - since\n",
        "    print('Training complete in {:.0f}m {:.0f}s'.format(\n",
        "        time_elapsed // 60, time_elapsed % 60))\n",
        "    print('Best val Acc: {:4f}'.format(float(best_acc)))\n",
        "\n",
        "    # load best model weights\n",
        "    model.load_state_dict(best_model_wts)\n",
        "    return model"
      ]
    },
    {
      "cell_type": "markdown",
      "metadata": {},
      "source": [
        "Finetuning the convnet\n",
        "----------------------\n",
        "\n",
        "Load a pretrained model and reset final fully connected layer.\n",
        "\n",
        "\n"
      ]
    },
    {
      "cell_type": "code",
      "execution_count": null,
      "metadata": {
        "collapsed": false
      },
      "outputs": [],
      "source": [
        "model_ft = models.resnet18(pretrained=True)\n",
        "num_ftrs = model_ft.fc.in_features\n",
        "# Here the size of each output sample is set to 2.\n",
        "# Alternatively, it can be generalized to nn.Linear(num_ftrs, len(class_names)).\n",
        "model_ft.fc = nn.Linear(num_ftrs, 1)\n",
        "\n",
        "model_ft = model_ft.to(device)\n",
        "\n",
        "#criterion = nn.CrossEntropyLoss()\n",
        "\n",
        "# Observe that all parameters are being optimized\n",
        "#optimizer_ft = optim.SGD(model_ft.parameters(), lr=0.001, momentum=0.9)\n",
        "optimizer_ft = optim.SGD(model_ft.parameters(), lr=0.003, momentum=0.9)\n",
        "\n",
        "\n",
        "# Decay LR by a factor of 0.1 every 7 epochs\n",
        "exp_lr_scheduler = lr_scheduler.StepLR(optimizer_ft, step_size=7, gamma=0.1)\n",
        "#print((dataloaders['train'])[0])"
      ]
    },
    {
      "cell_type": "markdown",
      "metadata": {},
      "source": [
        "Train and evaluate\n",
        "^^^^^^^^^^^^^^^^^^\n",
        "\n",
        "It should take around 15-25 min on CPU. On GPU though, it takes less than a\n",
        "minute.\n",
        "\n",
        "\n"
      ]
    },
    {
      "cell_type": "code",
      "execution_count": null,
      "metadata": {
        "collapsed": false
      },
      "outputs": [],
      "source": [
        "model_ft = train_model(model_ft, customLossFunction, optimizer_ft, exp_lr_scheduler,\n",
        "                       num_epochs=125)"
      ]
    },
    {
      "cell_type": "markdown",
      "metadata": {},
      "source": [
        "ConvNet as fixed feature extractor\n",
        "----------------------------------\n",
        "\n",
        "Here, we need to freeze all the network except the final layer. We need\n",
        "to set ``requires_grad = False`` to freeze the parameters so that the\n",
        "gradients are not computed in ``backward()``.\n",
        "\n",
        "You can read more about this in the documentation\n",
        "`here <https://pytorch.org/docs/notes/autograd.html#excluding-subgraphs-from-backward>`__.\n",
        "\n",
        "\n"
      ]
    },
    {
      "cell_type": "code",
      "execution_count": null,
      "metadata": {
        "collapsed": false
      },
      "outputs": [],
      "source": [
        "model_conv = torchvision.models.resnet18(pretrained=True)\n",
        "for param in model_conv.parameters():\n",
        "    param.requires_grad = False\n",
        "\n",
        "# Parameters of newly constructed modules have requires_grad=True by default\n",
        "num_ftrs = model_conv.fc.in_features\n",
        "model_conv.fc = nn.Linear(num_ftrs, 2)\n",
        "\n",
        "model_conv = model_conv.to(device)\n",
        "\n",
        "criterion = nn.CrossEntropyLoss()\n",
        "\n",
        "# Observe that only parameters of final layer are being optimized as\n",
        "# opposed to before.\n",
        "optimizer_conv = optim.SGD(model_conv.fc.parameters(), lr=0.001, momentum=0.9)\n",
        "\n",
        "# Decay LR by a factor of 0.1 every 7 epochs\n",
        "exp_lr_scheduler = lr_scheduler.StepLR(optimizer_conv, step_size=7, gamma=0.1)"
      ]
    },
    {
      "cell_type": "markdown",
      "metadata": {},
      "source": [
        "Train and evaluate\n",
        "^^^^^^^^^^^^^^^^^^\n",
        "\n",
        "On CPU this will take about half the time compared to previous scenario.\n",
        "This is expected as gradients don't need to be computed for most of the\n",
        "network. However, forward does need to be computed.\n",
        "\n",
        "\n"
      ]
    },
    {
      "cell_type": "code",
      "execution_count": null,
      "metadata": {
        "collapsed": false
      },
      "outputs": [],
      "source": [
        "model_conv = train_model(model_conv, criterion, optimizer_conv,\n",
        "                         exp_lr_scheduler, num_epochs=25)"
      ]
    },
    {
      "cell_type": "code",
      "execution_count": null,
      "metadata": {
        "collapsed": false
      },
      "outputs": [],
      "source": [
        "visualize_model(model_conv)\n",
        "\n",
        "plt.ioff()\n",
        "plt.show()"
      ]
    },
    {
      "cell_type": "markdown",
      "metadata": {},
      "source": [
        "Further Learning\n",
        "-----------------\n",
        "\n",
        "If you would like to learn more about the applications of transfer learning,\n",
        "checkout our `Quantized Transfer Learning for Computer Vision Tutorial <https://pytorch.org/tutorials/intermediate/quantized_transfer_learning_tutorial.html>`_.\n",
        "\n",
        "\n",
        "\n"
      ]
    }
  ],
  "metadata": {
    "kernelspec": {
      "display_name": "Python 3",
      "language": "python",
      "name": "python3"
    },
    "language_info": {
      "codemirror_mode": {
        "name": "ipython",
        "version": 3
      },
      "file_extension": ".py",
      "mimetype": "text/x-python",
      "name": "python",
      "nbconvert_exporter": "python",
      "pygments_lexer": "ipython3",
      "version": "3.8.3"
    }
  },
  "nbformat": 4,
  "nbformat_minor": 0
}
