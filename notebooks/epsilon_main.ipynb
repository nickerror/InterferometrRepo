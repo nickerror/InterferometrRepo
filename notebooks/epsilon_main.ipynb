{
 "cells": [
  {
   "cell_type": "code",
   "execution_count": 1,
   "metadata": {
    "id": "t0KRFjQBO6PI"
   },
   "outputs": [],
   "source": [
    "from __future__ import print_function, division\n",
    "\n",
    "import torch\n",
    "import torch.nn as nn\n",
    "import torch.optim as optim\n",
    "from torch.optim import lr_scheduler\n",
    "import numpy as np\n",
    "import torchvision\n",
    "from torchvision import datasets, models, transforms\n",
    "import matplotlib.pyplot as plt\n",
    "import time\n",
    "import os\n",
    "import copy\n",
    "import pandas as pd\n",
    "import cv2\n",
    "import PIL\n",
    "import math\n",
    "import matplotlib.image as mpimg\n",
    "from pathlib import Path\n",
    "import logging\n",
    "\n",
    "#debug\n",
    "#%pdb on #https://zohaib.me/debugging-in-google-collab-notebook/\n"
   ]
  },
  {
   "cell_type": "code",
   "execution_count": 2,
   "metadata": {
    "id": "yuuiBS-nWR88"
   },
   "outputs": [],
   "source": [
    "class PathManagement:\n",
    "    def __init__(self):\n",
    "        self.__cloud_path_prefix = \"/content/drive/My Drive/\"\n",
    "        #########___Data PATH___##############\n",
    "        #FOR LOCAL DATA:\n",
    "        #--REAL DATA:\n",
    "        self._localDataset_metadata = \"../data/raw/1channel/reference/epsilon.csv\"\n",
    "        self._localData_root_dir = \"../data/raw/1channel/photo/\"\n",
    "        #--SELF-GENERATED DATA:\n",
    "        #----UNNOISED\n",
    "        self._localData_metadata_generated_unnoised = \"../data/generated/unnoised/reference/epsilon.csv\"\n",
    "        self._localData_root_dir_generated_unnoised = \"../data/generated/unnoised/photo/\"\n",
    "        #----NOISED\n",
    "        self._localData_metadata_generated_noised = \"../data/generated/noised/reference/training/epsilon.csv\"\n",
    "        self._localData_root_dir_generated_noised = \"../data/generated/noised/photo/training\"\n",
    "        self._localData_metadata_generated_noised_test = \"../data/generated/noised/reference/test/epsilon.csv\"\n",
    "        self._localData_root_dir_generated_noised_test = \"../data/generated/noised/photo/test\"\n",
    "\n",
    "        #ON DRIVE:\n",
    "        #--REAL DATA:\n",
    "        self._cloudDataset_metadata = self.__cloud_path_prefix + \"data/reference/real/epsilon_short.csv\"\n",
    "        self._cloudData_root_dir = self.__cloud_path_prefix + \"data/photo/real/\"\n",
    "        #--SELF-GENERATED DATA:\n",
    "        #----UNNOISED\n",
    "        self._cloudData_metadata_generated_unnoised = self.__cloud_path_prefix + \"data/reference/generated/unnoised/epsilon.csv\"\n",
    "        self._cloudData_root_dir_generated_unnoised = self.__cloud_path_prefix + \"data/photo/generated/unnoised/\"\n",
    "        #----NOISED\n",
    "        self._cloudData_metadata_generated_noised = self.__cloud_path_prefix + \"data/reference/generated/noised/epsilon.csv\"\n",
    "        self._cloudData_root_dir_generated_noised = self.__cloud_path_prefix + \"data/photo/generated/noised/\"\n",
    "\n",
    "\n",
    "        #########___Model PATH___##############\n",
    "        self.__path_save_model_cloud = self.__cloud_path_prefix + \"data/models/\"\n",
    "        self.__path_save_model_local = \"../models/\"\n",
    "\n",
    "    def dataPath(self, dataPlace = \"local\", dataType = \"original\", isNoise = True):\n",
    "        \"\"\"! define correct data path using parameters\n",
    "        \n",
    "        @param dataPlace  data place can be 'local' or 'cloud'.\n",
    "        @param dataType   data type can be 'original' or 'generated'.\n",
    "        @param isNoise    only used in case of generated dataType.\n",
    "\n",
    "        @return 2 path --> 1. with methadata, 2. with photo\n",
    "        \"\"\"\n",
    "        if dataPlace == 'local':\n",
    "            if dataType == 'original':\n",
    "                return self._localDataset_metadata, self._localData_root_dir\n",
    "            elif dataType == 'generated':\n",
    "                if isNoise == False:\n",
    "                    return self._localData_metadata_generated_unnoised, self._localData_root_dir_generated_unnoised\n",
    "                else:\n",
    "                    return self._localData_metadata_generated_noised, self._localData_root_dir_generated_noised\n",
    "            else:\n",
    "                return False\n",
    "        elif dataPlace == 'cloud':\n",
    "            if dataType == 'original':\n",
    "                return self._cloudDataset_metadata, self._cloudData_root_dir\n",
    "            elif dataType == 'generated':\n",
    "                if isNoise == False:\n",
    "                    return self._cloudData_metadata_generated_unnoised, self._cloudData_root_dir_generated_unnoised\n",
    "                else:\n",
    "                    return self._cloudData_metadata_generated_noised, self._cloudData_root_dir_generated_noised\n",
    "            else:\n",
    "                return False\n",
    "        else:\n",
    "          return False\n",
    "\n",
    "    def dataPathTest(self):\n",
    "        return self._localData_metadata_generated_noised_test, self._localData_root_dir_generated_noised_test\n",
    "\n",
    "    def modelSavePath(self, dataPlace = \"local\"):\n",
    "        \"\"\"! define model save path depending on the save location\n",
    "        \n",
    "        @param dataPlace  data place can be 'local' or 'cloud'.\n",
    "\n",
    "        @return model save path\n",
    "        \"\"\"\n",
    "        if dataPlace == \"local\":\n",
    "            return self.__path_save_model_local\n",
    "        elif dataPlace == \"cloud\":\n",
    "            return self.__path_save_model_cloud\n",
    "        else: return False\n"
   ]
  },
  {
   "cell_type": "code",
   "execution_count": 3,
   "metadata": {
    "id": "C1U3MaBp-7Ki"
   },
   "outputs": [],
   "source": [
    "pathManagement=PathManagement()"
   ]
  },
  {
   "cell_type": "code",
   "execution_count": 4,
   "metadata": {
    "id": "GULBEHAeO6PO"
   },
   "outputs": [],
   "source": [
    "class Config:\n",
    "    def __init__(self):\n",
    "        #Variables to edit\n",
    "        self.epochs = 20      #number of epochs\n",
    "        self.num_classes = 1  #num classes in dataset\n",
    "        #todo zwiekszyc batch_size -> 16 -> 32\n",
    "        self.batch_size = 4   #batch size used for training (e.g. bath_size photos in one process)\n",
    "        #todo sprawdzic Adama\n",
    "        self.learning_rate = 0.001 #for SGD = 0.01, for Adam = 10^-4 -- 10^-3\n",
    "        self.train_size=0.8\n",
    "        self.dataset = \"InterferometerPhoto\"\n",
    "        #self.architecture = \"CNN\"\n",
    "        self.pin_memory = True\n",
    "        self.momentum = 0.9 #do Adama\n",
    "        self.step_size = 7\n",
    "        self.gamma = 0.1\n",
    "        self.num_workers = 0\n",
    "        self.model_name_to_save = \"1_generated_972997.pth\"\n",
    "        self.data_place = \"local\" #=\"cloud\"\n",
    "        self.data_transforms = transforms.Compose([\n",
    "                        transforms.CenterCrop(448),\n",
    "                        transforms.Resize(224), #first way is crop and later resize. Second way is CenterCrop right away.\n",
    "                        #transforms.CenterCrop(224),\n",
    "                        transforms.ToTensor(),\n",
    "                        transforms.Normalize(mean=[0.491, 0.491, 0.491],\n",
    "                                              std=[0.210, 0.210, 0.210]) ])\n",
    "        self._cuda=True        #GPU = True, CPU = False\n",
    "        \n",
    "        #variables not to edit here. You Can edit path in PathManagement Class.\n",
    "        self.dataset_metadata, self.data_root_dir = pathManagement.dataPath(dataPlace = self.data_place, \n",
    "                                                                            dataType = \"generated\", \n",
    "                                                                            isNoise = True)\n",
    "\n",
    "        self.dataset_metadata_test, self.data_root_dir_test = pathManagement.dataPathTest()\n",
    "        \n",
    "        #additional\n",
    "        self.debug_mode = False\n",
    "\n",
    "    def device(self):\n",
    "        if self._cuda == True:\n",
    "            return torch.device(\"cuda:0\" if torch.cuda.is_available() else \"cpu\")\n",
    "        else:\n",
    "            return \"cpu\"\n",
    "        "
   ]
  },
  {
   "cell_type": "markdown",
   "metadata": {
    "id": "tdkdn0D6NoJS"
   },
   "source": [
    "**Create config data**"
   ]
  },
  {
   "cell_type": "code",
   "execution_count": 5,
   "metadata": {
    "id": "wmUWmXCCNiiq"
   },
   "outputs": [],
   "source": [
    "config=Config()"
   ]
  },
  {
   "cell_type": "markdown",
   "metadata": {
    "id": "ifbRRQLTRuw5"
   },
   "source": [
    "**Dataset**"
   ]
  },
  {
   "cell_type": "code",
   "execution_count": 6,
   "metadata": {
    "id": "xb88pJeDPGy3"
   },
   "outputs": [],
   "source": [
    "class EpsilonDataset(torch.utils.data.Dataset):\n",
    "    def __init__(self, root_dir, annotation_file, transform=None):\n",
    "        self.root_dir = root_dir\n",
    "        self.annotations = pd.read_csv(annotation_file,skiprows=0, delim_whitespace=' ')\n",
    "        self.transform = transform\n",
    "\n",
    "    def __len__(self):\n",
    "        return len(self.annotations)\n",
    "\n",
    "    def __getitem__(self, index):\n",
    "        img = np.array(cv2.imread(os.path.join(self.root_dir, str(str(\"%05d\" %self.annotations.imgnr[index]))+ \".png\"))).astype(np.float32)\n",
    "        img=PIL.Image.fromarray(np.uint8(img))\n",
    "        y_label = self.annotations.eps[index]\n",
    "        if self.transform is not None:\n",
    "            img = self.transform(img)\n",
    "        return img, y_label\n",
    "\n"
   ]
  },
  {
   "cell_type": "code",
   "execution_count": 7,
   "metadata": {
    "id": "j3hy24ovPLFd"
   },
   "outputs": [],
   "source": [
    "def prepare_data(config, train = True):\n",
    "    #create time logger:\n",
    "    logging.basicConfig(format='%(asctime)s - %(message)s', datefmt='%d-%b-%y %H:%M:%S', level=50) #50 - critical, 40 - error, 30 - warning, 20 - info, 10 - debug, 0 - notset\n",
    "    logging.debug('1. Start prepare_data')\n",
    "\n",
    "    if train:\n",
    "        dataset = EpsilonDataset(config.data_root_dir, config.dataset_metadata, transform=config.data_transforms)\n",
    "    else:\n",
    "        dataset = EpsilonDataset(config.data_root_dir_test, config.dataset_metadata_test, transform=config.data_transforms)\n",
    "    \n",
    "    g = torch.Generator(device=device).manual_seed(23) \n",
    "    loader_params = dict(batch_size=config.batch_size, num_workers=config.num_workers,\n",
    "                            pin_memory=config.pin_memory, generator=g, shuffle=True)\n",
    "\n",
    "    if train:\n",
    "        train_size = int(config.train_size * len(dataset))\n",
    "        val_size = len(dataset) - train_size\n",
    "        train_dataset, val_dataset = torch.utils.data.random_split(dataset, [train_size, val_size], generator=g)\n",
    "\n",
    "        print(\"len(train_dataset):\", len(train_dataset),\"len(val_dataset):\", len(val_dataset))\n",
    "\n",
    "        train_loader = torch.utils.data.DataLoader(**loader_params, dataset=train_dataset )\n",
    "        validation_loader = torch.utils.data.DataLoader(**loader_params, dataset=val_dataset )\n",
    "        \n",
    "        return {'train': train_loader, 'val': validation_loader}\n",
    "    else:\n",
    "        val_size = int(0)\n",
    "        test_size = len(dataset)\n",
    "\n",
    "        test_dataset, val_dataset = torch.utils.data.random_split(dataset, [test_size, val_size], generator=g)\n",
    "\n",
    "        print(\"length train dataset:\", len(test_dataset))\n",
    "\n",
    "        test_loader = torch.utils.data.DataLoader(**loader_params, dataset=test_dataset )\n",
    "        \n",
    "        return {'test': test_loader}\n",
    "    "
   ]
  },
  {
   "cell_type": "code",
   "execution_count": null,
   "metadata": {
    "id": "yDJqDvhiPXJv"
   },
   "outputs": [],
   "source": [
    "#import data from drive\n",
    "from google.colab import drive\n",
    "drive.mount('/content/drive')\n",
    "\n",
    "#test connection:\n",
    "img = mpimg.imread(config.data_root_dir + '03400.png') #test display img')\n",
    "imgplot = plt.imshow(img)\n",
    "plt.show()"
   ]
  },
  {
   "cell_type": "markdown",
   "metadata": {
    "id": "icqhwXpIO6PT"
   },
   "source": [
    "Load Data"
   ]
  },
  {
   "cell_type": "code",
   "execution_count": 8,
   "metadata": {
    "id": "0wargK6_qjnj"
   },
   "outputs": [],
   "source": [
    "device = \"cpu\" #first calculations will be on CPU"
   ]
  },
  {
   "cell_type": "code",
   "execution_count": 9,
   "metadata": {
    "id": "M0Tg90xtO6PW"
   },
   "outputs": [
    {
     "name": "stdout",
     "output_type": "stream",
     "text": [
      "len(train_dataset): 3200 len(val_dataset): 800\n",
      "Device:  cpu\n",
      "Dataloader train len:  800 val len:  200\n"
     ]
    }
   ],
   "source": [
    "dataloaders = prepare_data(config)\n",
    "dataset_sizes = {x: len(dataloaders[x]) for x in ['train', 'val']}\n",
    "\n",
    "dataset = EpsilonDataset(config.data_root_dir, config.dataset_metadata, transform=config.data_transforms)\n",
    "\n",
    "train_features, train_labels=next(iter(dataloaders[\"train\"]))\n",
    "\n",
    "print(\"Device: \", device)\n",
    "print(\"Dataloader train len: \", len(dataloaders[\"train\"]), \"val len: \", len(dataloaders[\"val\"]))"
   ]
  },
  {
   "cell_type": "code",
   "execution_count": 10,
   "metadata": {
    "id": "GYLGfA1nl_73"
   },
   "outputs": [
    {
     "name": "stdout",
     "output_type": "stream",
     "text": [
      "Device:  cuda:0\n"
     ]
    }
   ],
   "source": [
    "device = config.device() #another calculations with default\n",
    "print(\"Device: \", device)"
   ]
  },
  {
   "cell_type": "markdown",
   "metadata": {
    "id": "fHef8ymKO6PX"
   },
   "source": [
    "Training the model\n",
    "------------------\n",
    "\n",
    "\n"
   ]
  },
  {
   "cell_type": "code",
   "execution_count": 20,
   "metadata": {
    "id": "AZOWB13tO6PZ"
   },
   "outputs": [],
   "source": [
    "def customLossFunctionDebug(outputs, labels, totalLoss):\n",
    "    print(\"NextOne\")\n",
    "    for i in range (len(outputs)):\n",
    "        print(\"i: \", i, \"label: \", float(labels[i]), \"output:\", float(outputs[i]), \"diff= \", float(min( abs(abs(labels[i])-abs(outputs[i])) , abs(1-(abs(labels[i])-abs(outputs[i]))) )))\n",
    "\n",
    "    print(\"totalLoss:\", float(totalLoss))\n",
    "    return totalLoss\n",
    "\n",
    "\n",
    "def customLossFunction(outputs, labels):\n",
    "    totalLoss=0.0\n",
    "    for i in range (len(outputs)):\n",
    "        #oneOutputLoss= abs(abs(labels[i])-(outputs[i]))\n",
    "        #oneOutputLoss=min( abs(abs(labels[i])-abs(outputs[i])) , abs(1-(abs(labels[i])-abs(outputs[i]))))\n",
    "        oneOutputLoss = torch.min( torch.abs(torch.abs(labels[i])-torch.abs(outputs[i])) , torch.abs(1-(torch.abs(labels[i])-torch.abs(outputs[i]))))\n",
    "        totalLoss+=oneOutputLoss\n",
    "    totalLoss/=len(outputs)\n",
    "    #customLossFunctionDebug(outputs=outputs, labels=labels, totalLoss=totalLoss)\n",
    "    return totalLoss\n",
    "\n",
    "def singleCustomLossFunction(outputs, labels):\n",
    "    return torch.min( torch.abs(torch.abs(labels)-torch.abs(outputs)) , torch.abs(1-(torch.abs(labels)-torch.abs(outputs))))\n",
    "\n",
    "def train_model(model, criterion, optimizer, scheduler, num_epochs):\n",
    "    since = time.time()\n",
    "    best_model_wts = copy.deepcopy(model.state_dict())\n",
    "    best_acc = -100000\n",
    "    \n",
    "    for epoch in range(num_epochs):\n",
    "        \n",
    "        print('Epoch {}/{}'.format(epoch, num_epochs - 1))\n",
    "\n",
    "        # Each epoch has a training and validation phase\n",
    "        for phase in ['train', 'val']:\n",
    "            if phase == 'train':\n",
    "                model.train()  # Set model to training mode\n",
    "            else:\n",
    "                model.eval()   # Set model to evaluate mode\n",
    "            \n",
    "            running_loss = 0.0\n",
    "            running_corrects = 0\n",
    "\n",
    "            # Iterate over data.\n",
    "            for inputs, labels in dataloaders[phase]:\n",
    "                inputs = inputs.to(device)\n",
    "                labels = labels.to(device)\n",
    "\n",
    "                # zero the parameter gradients\n",
    "                optimizer.zero_grad()\n",
    "\n",
    "                with torch.set_grad_enabled(phase == 'train'):\n",
    "                    outputs = model(inputs)\n",
    "                    loss = criterion(outputs, labels)\n",
    "\n",
    "                    # backward + optimize only if in training phase\n",
    "                    if phase == 'train':\n",
    "                        loss.backward()\n",
    "                        optimizer.step()\n",
    "\n",
    "                # statistics\n",
    "                running_loss+=loss\n",
    "\n",
    "            if phase == 'train':\n",
    "                scheduler.step()\n",
    "\n",
    "            epoch_loss = running_loss / dataset_sizes[phase]\n",
    "            #print(\"epoch_loss: \", epoch_loss, \"running_loss: \", running_loss, \"dataset_sizes[phase]: \", dataset_sizes[phase])\n",
    "            epoch_acc = 1-epoch_loss\n",
    "\n",
    "            print('{} Loss: {:.4f} Acc: {:.4f}'.format(\n",
    "                str(phase), float(epoch_loss), float(epoch_acc)))\n",
    "\n",
    "            # deep copy the model\n",
    "            if phase == 'val' and epoch_acc > best_acc:\n",
    "                best_acc = epoch_acc\n",
    "                best_model_wts = copy.deepcopy(model.state_dict())\n",
    "\n",
    "        print()\n",
    "\n",
    "    time_elapsed = time.time() - since\n",
    "    print('Training complete in {:.0f}m {:.0f}s'.format(\n",
    "        time_elapsed // 60, time_elapsed % 60))\n",
    "    print('Best val Acc: {:4f}'.format(float(best_acc)))\n",
    "\n",
    "    # load best model weights\n",
    "    model.load_state_dict(best_model_wts)\n",
    "    return model"
   ]
  },
  {
   "cell_type": "code",
   "execution_count": 16,
   "metadata": {
    "id": "zpBt9erzyglT"
   },
   "outputs": [],
   "source": [
    "device = config.device()\n",
    "model_ft = models.resnet18(pretrained=True)\n",
    "#todo mozna sprobowac wiekszego resneta\n",
    "#todo najpierw uczy sie siec zamrozona i na poczatku uczy sie tylko ostatnie \n",
    "#     warstwy i dopiero jak dobrze pojdzie to odmrazamy\n",
    "num_ftrs = model_ft.fc.in_features\n",
    "model_ft.fc = nn.Linear(num_ftrs, 1)\n",
    "\n",
    "model_ft = model_ft.to(device)\n",
    "\n",
    "# Observe that all parameters are being optimized\n",
    "optimizer_ft = optim.SGD(model_ft.parameters(), lr=config.learning_rate, momentum=config.momentum)\n",
    "\n",
    "\n",
    "# Decay LR by a factor of 0.1 every 7 epochs\n",
    "exp_lr_scheduler = lr_scheduler.StepLR(optimizer_ft, step_size=config.step_size, gamma=config.gamma)\n",
    "#print((dataloaders['train'])[0])\n"
   ]
  },
  {
   "cell_type": "code",
   "execution_count": 23,
   "metadata": {
    "id": "2PPxnZq5zGO5"
   },
   "outputs": [
    {
     "name": "stdout",
     "output_type": "stream",
     "text": [
      "Epoch 0/19\n",
      "train Loss: 0.3726 Acc: 0.6274\n",
      "val Loss: 0.3136 Acc: 0.6864\n",
      "\n",
      "Epoch 1/19\n",
      "train Loss: 0.2605 Acc: 0.7395\n",
      "val Loss: 0.1563 Acc: 0.8437\n",
      "\n",
      "Epoch 2/19\n",
      "train Loss: 0.2177 Acc: 0.7823\n",
      "val Loss: 0.0999 Acc: 0.9001\n",
      "\n",
      "Epoch 3/19\n",
      "train Loss: 0.2049 Acc: 0.7951\n",
      "val Loss: 0.2166 Acc: 0.7834\n",
      "\n",
      "Epoch 4/19\n",
      "train Loss: 0.1639 Acc: 0.8361\n",
      "val Loss: 0.1279 Acc: 0.8721\n",
      "\n",
      "Epoch 5/19\n",
      "train Loss: 0.1631 Acc: 0.8369\n",
      "val Loss: 0.0872 Acc: 0.9128\n",
      "\n",
      "Epoch 6/19\n",
      "train Loss: 0.1735 Acc: 0.8265\n",
      "val Loss: 0.1846 Acc: 0.8154\n",
      "\n",
      "Epoch 7/19\n",
      "train Loss: 0.0776 Acc: 0.9224\n",
      "val Loss: 0.0504 Acc: 0.9496\n",
      "\n",
      "Epoch 8/19\n",
      "train Loss: 0.0549 Acc: 0.9451\n",
      "val Loss: 0.0362 Acc: 0.9638\n",
      "\n",
      "Epoch 9/19\n",
      "train Loss: 0.0440 Acc: 0.9560\n",
      "val Loss: 0.0341 Acc: 0.9659\n",
      "\n",
      "Epoch 10/19\n",
      "train Loss: 0.0391 Acc: 0.9609\n",
      "val Loss: 0.0437 Acc: 0.9563\n",
      "\n",
      "Epoch 11/19\n",
      "train Loss: 0.0391 Acc: 0.9609\n",
      "val Loss: 0.0406 Acc: 0.9594\n",
      "\n",
      "Epoch 12/19\n",
      "train Loss: 0.0336 Acc: 0.9664\n",
      "val Loss: 0.0294 Acc: 0.9706\n",
      "\n",
      "Epoch 13/19\n",
      "train Loss: 0.0314 Acc: 0.9686\n",
      "val Loss: 0.0300 Acc: 0.9700\n",
      "\n",
      "Epoch 14/19\n",
      "train Loss: 0.0252 Acc: 0.9748\n",
      "val Loss: 0.0298 Acc: 0.9702\n",
      "\n",
      "Epoch 15/19\n",
      "train Loss: 0.0255 Acc: 0.9745\n",
      "val Loss: 0.0307 Acc: 0.9693\n",
      "\n",
      "Epoch 16/19\n",
      "train Loss: 0.0250 Acc: 0.9750\n",
      "val Loss: 0.0279 Acc: 0.9721\n",
      "\n",
      "Epoch 17/19\n",
      "train Loss: 0.0243 Acc: 0.9757\n",
      "val Loss: 0.0289 Acc: 0.9711\n",
      "\n",
      "Epoch 18/19\n",
      "train Loss: 0.0236 Acc: 0.9764\n",
      "val Loss: 0.0270 Acc: 0.9730\n",
      "\n",
      "Epoch 19/19\n",
      "train Loss: 0.0232 Acc: 0.9768\n",
      "val Loss: 0.0281 Acc: 0.9719\n",
      "\n",
      "Training complete in 18m 44s\n",
      "Best val Acc: 0.972997\n"
     ]
    }
   ],
   "source": [
    "model_ft = train_model(model=model_ft, criterion=customLossFunction, optimizer=optimizer_ft, scheduler=exp_lr_scheduler,\n",
    "                       num_epochs=config.epochs)"
   ]
  },
  {
   "cell_type": "markdown",
   "metadata": {
    "id": "URjHqFjyGR5D"
   },
   "source": [
    "**Time to save model**"
   ]
  },
  {
   "cell_type": "code",
   "execution_count": 13,
   "metadata": {
    "id": "qpbUskG5Ggnv"
   },
   "outputs": [],
   "source": [
    "def saveModel(model, modelName):\n",
    "    \"\"\"! function to save model\n",
    "    \n",
    "    @param model        model to save\n",
    "    @param modelName    name of model - prefered pith *.pth\n",
    "    \"\"\"\n",
    "    tempPathToSave = pathManagement.modelSavePath(dataPlace = config.data_place) + modelName #path to save\n",
    "\n",
    "    torch.save(model_ft, tempPathToSave)\n",
    "    #torch.save(model.state_dict(), tempPathToSave)\n",
    "    \n",
    "    print(\"model saved: \" + config.data_place)\n"
   ]
  },
  {
   "cell_type": "code",
   "execution_count": 30,
   "metadata": {
    "id": "lgyJp5hDAMIa"
   },
   "outputs": [
    {
     "name": "stdout",
     "output_type": "stream",
     "text": [
      "model saved: local\n"
     ]
    }
   ],
   "source": [
    "saveModel(model=model_ft, modelName = config.model_name_to_save)"
   ]
  },
  {
   "cell_type": "code",
   "execution_count": 13,
   "metadata": {
    "id": "gD1CcZWk9gFt"
   },
   "outputs": [],
   "source": [
    "#state_dict = torch.load(pathManagement.modelSavePath(dataPlace = config.data_place) + config.model_name_to_save) #to check, is everything ok\n",
    "tempPathToLoad = pathManagement.modelSavePath(dataPlace = config.data_place) + config.model_name_to_save\n",
    "\n",
    "state_dict = torch.load(tempPathToLoad, map_location=device)\n",
    "\n",
    "del tempPathToLoad\n",
    "#print(state_dict.keys())"
   ]
  },
  {
   "cell_type": "markdown",
   "metadata": {
    "id": "DX_haFDTIFlz"
   },
   "source": [
    "Testowanie"
   ]
  },
  {
   "cell_type": "code",
   "execution_count": 19,
   "metadata": {
    "id": "U1qFfkX31BKR"
   },
   "outputs": [
    {
     "name": "stdout",
     "output_type": "stream",
     "text": [
      "length train dataset: 1000\n"
     ]
    },
    {
     "ename": "KeyError",
     "evalue": "'val'",
     "output_type": "error",
     "traceback": [
      "\u001b[1;31m---------------------------------------------------------------------------\u001b[0m",
      "\u001b[1;31mKeyError\u001b[0m                                  Traceback (most recent call last)",
      "\u001b[1;32mc:\\Users\\Krzysztof\\Documents\\Studia_informatyka\\praca_magisterska\\InterferometrRepo\\notebooks\\epsilon_main.ipynb Cell 24'\u001b[0m in \u001b[0;36m<cell line: 16>\u001b[1;34m()\u001b[0m\n\u001b[0;32m     <a href='vscode-notebook-cell:/c%3A/Users/Krzysztof/Documents/Studia_informatyka/praca_magisterska/InterferometrRepo/notebooks/epsilon_main.ipynb#ch0000023?line=13'>14</a>\u001b[0m allDiffs\u001b[39m=\u001b[39m\u001b[39m0.0\u001b[39m\n\u001b[0;32m     <a href='vscode-notebook-cell:/c%3A/Users/Krzysztof/Documents/Studia_informatyka/praca_magisterska/InterferometrRepo/notebooks/epsilon_main.ipynb#ch0000023?line=14'>15</a>\u001b[0m j\u001b[39m=\u001b[39m\u001b[39m0\u001b[39m\n\u001b[1;32m---> <a href='vscode-notebook-cell:/c%3A/Users/Krzysztof/Documents/Studia_informatyka/praca_magisterska/InterferometrRepo/notebooks/epsilon_main.ipynb#ch0000023?line=15'>16</a>\u001b[0m \u001b[39mfor\u001b[39;00m images, labels \u001b[39min\u001b[39;00m dataloaders[\u001b[39m'\u001b[39;49m\u001b[39mval\u001b[39;49m\u001b[39m'\u001b[39;49m]:\n\u001b[0;32m     <a href='vscode-notebook-cell:/c%3A/Users/Krzysztof/Documents/Studia_informatyka/praca_magisterska/InterferometrRepo/notebooks/epsilon_main.ipynb#ch0000023?line=16'>17</a>\u001b[0m     images, labels \u001b[39m=\u001b[39m images\u001b[39m.\u001b[39mcuda(), labels\u001b[39m.\u001b[39mcuda()\n\u001b[0;32m     <a href='vscode-notebook-cell:/c%3A/Users/Krzysztof/Documents/Studia_informatyka/praca_magisterska/InterferometrRepo/notebooks/epsilon_main.ipynb#ch0000023?line=17'>18</a>\u001b[0m     outputs\u001b[39m=\u001b[39mmodel_ft2(images)\n",
      "\u001b[1;31mKeyError\u001b[0m: 'val'"
     ]
    }
   ],
   "source": [
    "device=\"cpu\"\n",
    "#model_ft = models.resnet18(pretrained=True)\n",
    "#num_ftrs = model_ft.fc.in_features\n",
    "#model_ft.fc = nn.Linear(num_ftrs, 1)\n",
    "#\n",
    "#model_ft = model_ft.to(device)\n",
    "#model_ft.load_state_dict(torch.load('Conv_RealPhotos_0_9745.pht'))\n",
    "tempPathToLoad = pathManagement.modelSavePath(dataPlace = config.data_place) + config.model_name_to_save #temporary path\n",
    "model_ft2=torch.load(tempPathToLoad)\n",
    "model_ft2.eval()\n",
    "#dataloaders = prepare_data(config)\n",
    "dataloaders = prepare_data(config, train=False)\n",
    "device=\"cuda\"\n",
    "allDiffs=0.0\n",
    "j=0\n",
    "for images, labels in dataloaders['val']:\n",
    "    images, labels = images.cuda(), labels.cuda()\n",
    "    outputs=model_ft2(images)\n",
    "    for i in range(len(outputs)):\n",
    "        diff=abs(float(labels[i]-outputs[i]))\n",
    "        allDiffs+=diff\n",
    "        j+=1\n",
    "        if (j%100==0): print(j, \"mean:\", allDiffs/j)\n",
    "        #print(\"j:\", j, \"label: \", float(labels[i]), \"output: \", float(outputs[i]), \"diff=\", diff)\n",
    "\n",
    "print(\"mean\", allDiffs/j)"
   ]
  },
  {
   "cell_type": "code",
   "execution_count": 9,
   "metadata": {},
   "outputs": [
    {
     "name": "stdout",
     "output_type": "stream",
     "text": [
      "../models/1_generated_972997.pth\n",
      "length train dataset: 1000\n"
     ]
    }
   ],
   "source": [
    "device=\"cpu\"\n",
    "#model_ft = models.resnet18(pretrained=True)\n",
    "#num_ftrs = model_ft.fc.in_features\n",
    "#model_ft.fc = nn.Linear(num_ftrs, 1)\n",
    "#\n",
    "#model_ft = model_ft.to(device)\n",
    "#model_ft.load_state_dict(torch.load('Conv_RealPhotos_0_9745.pht'))\n",
    "\n",
    "tempPathToLoad = pathManagement.modelSavePath(dataPlace = config.data_place) + config.model_name_to_save #temporary path\n",
    "print(tempPathToLoad)\n",
    "model_ft2=torch.load(tempPathToLoad)\n",
    "del tempPathToLoad\n",
    "model_ft2.eval()\n",
    "dataloaders = prepare_data(config, train=False)\n",
    "device=\"cuda\"\n",
    "allDiffs=0.0\n",
    "j=0"
   ]
  },
  {
   "cell_type": "code",
   "execution_count": 10,
   "metadata": {
    "id": "U0GFsl3eII7L"
   },
   "outputs": [
    {
     "name": "stdout",
     "output_type": "stream",
     "text": [
      "100 mean: 0.029641404254361986\n",
      "200 mean: 0.0260575188184157\n",
      "300 mean: 0.02613755327028533\n",
      "400 mean: 0.024401086329016834\n",
      "500 mean: 0.023372992740944027\n",
      "600 mean: 0.024596149469725787\n",
      "700 mean: 0.02407633005641401\n",
      "800 mean: 0.02410459247912513\n",
      "900 mean: 0.024811784610824866\n",
      "1000 mean: 0.02503739626496099\n",
      "mean 0.02503739626496099\n"
     ]
    }
   ],
   "source": [
    "\n",
    "for images, labels in dataloaders['test']:\n",
    "    images, labels = images.cuda(), labels.cuda()\n",
    "    outputs=model_ft2(images)\n",
    "    for i in range(len(outputs)):\n",
    "        #diff=abs(float(labels[i]-outputs[i]))\n",
    "        #diff=singleCustomLossFunction(outputs[i], labels[i])\n",
    "        diff = float(min( abs(abs(float(labels[i])-abs(outputs[i]))) , abs(1-float((abs(labels[i])-abs(outputs[i]))))))\n",
    "        allDiffs+=float(diff)\n",
    "        j+=1\n",
    "        if (j%100==0): print(j, \"mean:\", allDiffs/j)\n",
    "        #print(\"j:\", j, \"label: \", float(labels[i]), \"output: \", float(outputs[i]), \"diff=\", diff)\n",
    "\n",
    "print(\"mean\", allDiffs/j)"
   ]
  },
  {
   "cell_type": "code",
   "execution_count": 14,
   "metadata": {},
   "outputs": [
    {
     "name": "stdout",
     "output_type": "stream",
     "text": [
      "length train dataset: 1000\n",
      "100 mean: 0.29742526496760546\n",
      "200 mean: 0.30112930179107933\n",
      "300 mean: 0.3078657527361065\n",
      "400 mean: 0.30719027771381663\n",
      "500 mean: 0.3107645785640925\n",
      "600 mean: 0.3103082814238345\n",
      "700 mean: 0.31310643131046423\n",
      "800 mean: 0.3126825928592007\n",
      "900 mean: 0.3088751847025317\n",
      "1000 mean: 0.31056047780555673\n",
      "0.02144311279213677\n",
      "0.023913065437227488\n",
      "0.05118413083255291\n",
      "0.09122906113043427\n",
      "0.08197195306420327\n",
      "0.09714086353778839\n",
      "0.13113451651904895\n",
      "0.14036673990388712\n",
      "0.17095924615859986\n",
      "0.19206141266557905\n",
      "0.21096612388888994\n",
      "0.23547240222493807\n",
      "0.24545789361000062\n",
      "0.2726110558618199\n",
      "0.28975626329580945\n",
      "0.3063925852378209\n",
      "0.3233000094240362\n",
      "0.3423420534684108\n",
      "0.369391355663538\n",
      "0.38786552250385287\n",
      "0.4133444811616625\n",
      "0.4203948775927226\n",
      "0.43739440143108366\n",
      "0.4600172298295157\n",
      "0.47747664153575897\n",
      "0.47698695585131645\n",
      "0.4712672962082757\n",
      "0.4553517947594325\n",
      "0.4421181321144104\n",
      "0.4139946536584334\n",
      "0.3962491518921322\n",
      "0.38646844258675206\n",
      "0.36430650097983225\n",
      "0.338775098323822\n",
      "0.31552308797836304\n",
      "0.29714916944503783\n",
      "0.2695202976465225\n",
      "0.2530911147594452\n",
      "0.23133889111605557\n",
      "0.218133345246315\n",
      "0.19597205188539293\n",
      "0.17662625759840012\n",
      "0.1475135846571489\n",
      "0.1279701292514801\n",
      "0.11202264428138733\n",
      "0.09128810058940541\n",
      "0.07945982615152995\n",
      "0.049853020906448366\n",
      "0.02819109421509963\n",
      "0.01828458634289828\n",
      "0.014421448111534119\n",
      "0.027812572320302327\n",
      "0.04811296679756858\n",
      "0.06148699919382731\n",
      "0.0819466005672108\n",
      "0.11004063487052917\n",
      "0.10558134317398071\n",
      "0.14380112290382385\n",
      "0.16067743301391602\n",
      "0.17109414935112\n",
      "0.21400830962441184\n",
      "0.2255272732840644\n",
      "0.25026768904465896\n",
      "0.2573827968703376\n",
      "0.29363728761672975\n",
      "0.29208639860153196\n",
      "0.3265851497650146\n",
      "0.3326064348220825\n",
      "0.36917777856191\n",
      "0.3678566664457321\n",
      "0.3933817073702812\n",
      "0.4168577790260315\n",
      "0.41558464368184406\n",
      "0.4534887737698025\n",
      "0.4636218349138896\n",
      "0.49416749477386473\n",
      "0.5048946142196655\n",
      "0.5269381602605184\n",
      "0.5477317174275717\n",
      "0.5554070472717285\n",
      "0.5971791202371771\n",
      "0.6127709348996481\n",
      "0.6397936609056261\n",
      "0.6663946764809745\n",
      "0.7057576477527618\n",
      "0.6956505417823792\n",
      "0.7388724088668823\n",
      "0.6676252603530883\n",
      "0.7506674329439799\n",
      "0.7296572923660278\n",
      "0.8145524263381958\n",
      "0.6908194910396229\n",
      "0.618918206010546\n",
      "0.6640472412109375\n",
      "0.5182588398456573\n",
      "0.09814740717411041\n",
      "0.45421298912593294\n",
      "0.36758643930608575\n",
      "0.03031040940965925\n",
      "0.08280834356943766\n"
     ]
    },
    {
     "data": {
      "image/png": "[encoded data removed]",
      "text/plain": [
       "<Figure size 432x288 with 1 Axes>"
      ]
     },
     "metadata": {
      "needs_background": "light"
     },
     "output_type": "display_data"
    },
    {
     "data": {
      "image/png": "[encoded data removed]",
      "text/plain": [
       "<Figure size 432x288 with 1 Axes>"
      ]
     },
     "metadata": {
      "needs_background": "light"
     },
     "output_type": "display_data"
    },
    {
     "data": {
      "image/png": "[encoded data removed]",
      "text/plain": [
       "<Figure size 432x288 with 1 Axes>"
      ]
     },
     "metadata": {
      "needs_background": "light"
     },
     "output_type": "display_data"
    },
    {
     "data": {
      "image/png": "[encoded data removed]",
      "text/plain": [
       "<Figure size 432x288 with 1 Axes>"
      ]
     },
     "metadata": {
      "needs_background": "light"
     },
     "output_type": "display_data"
    }
   ],
   "source": [
    "##### with printing charts\n",
    "class Stats:\n",
    "    class Bin:\n",
    "        def __init__(self):\n",
    "            self.value=0\n",
    "            self.count=0\n",
    "        \n",
    "    \n",
    "    def __init__(self, binCount):\n",
    "        self.binAmmount=binCount\n",
    "        self.bin=self.Bin()\n",
    "        self.bins=[]\n",
    "\n",
    "        for i in range(self.binAmmount):\n",
    "            internalBin=self.Bin()\n",
    "            self.bins.append(internalBin)\n",
    "\n",
    "    def CreateBins(self):\n",
    "        for i in range(self.binAmmount):\n",
    "            internalBin=self.Bin()\n",
    "            self.bins.append(internalBin)\n",
    "\n",
    "    def AddCalculation(self, epsilon, error):\n",
    "        #print(len(self.bins), int(epsilon/(1/self.binAmmount)), epsilon, error)\n",
    "        self.bins[int(epsilon/(1/self.binAmmount))].value+=error\n",
    "        self.bins[int(epsilon/(1/self.binAmmount))].count+=1\n",
    "\n",
    "\n",
    "device=\"cpu\"\n",
    "\n",
    "tempPathToLoad = pathManagement.modelSavePath(dataPlace = config.data_place) + config.model_name_to_save #temporary path\n",
    "\n",
    "model_ft2=torch.load(tempPathToLoad)\n",
    "\n",
    "del tempPathToLoad\n",
    "\n",
    "model_ft2.eval()\n",
    "\n",
    "\n",
    "config.batch_size=1\n",
    "dataloaders = prepare_data(config, train=False)\n",
    "device=\"cuda\"\n",
    "allDiffs=0.0\n",
    "stats=Stats(100)\n",
    "j=0\n",
    "\n",
    "numberOfSamples = np.zeros([100,1],dtype=int) #.\n",
    "minError = np.ones([100,1],dtype=float)#.\n",
    "maxError = np.zeros([100,1],dtype=float) #.\n",
    "tempBinNumber = 0 #.\n",
    "\n",
    "\n",
    "for images, labels in dataloaders['test']:\n",
    "    images, labels = images.cuda(), labels.cuda()\n",
    "    outputs=model_ft2(images)\n",
    "    for i in range(len(outputs)):\n",
    "        diff=min(abs(1-abs(float(labels[i]-outputs[i]))) , abs(float(labels[i]-outputs[i])))\n",
    "        label=copy.deepcopy(float(labels[i]))\n",
    "        output=copy.deepcopy(float(outputs[i]))\n",
    "        allDiffs+=diff\n",
    "        j+=1\n",
    "        stats.AddCalculation(label, diff)\n",
    "        #print(\"label: \", label,\"diff: \", diff) #.\n",
    "        tempBinNumber = int(label*1000 // 10) #.\n",
    "        numberOfSamples[tempBinNumber] = numberOfSamples[tempBinNumber] + 1 #.\n",
    "        if minError[tempBinNumber] > diff:\n",
    "            minError[tempBinNumber] = diff\n",
    "        if maxError[tempBinNumber] < diff:\n",
    "            maxError[tempBinNumber] = diff\n",
    "\n",
    "        if (j%100==0): print(j, \"mean:\", allDiffs/j)\n",
    "        #print(\"j:\", j, \"label: \", float(labels[i]), \"output: \", float(outputs[i]), \"diff=\", diff)\n",
    "       \n",
    "        #plt.imshow(images)\n",
    "        #plt.show\n",
    "        #out1 = torchvision.utils.make_grid(inputs)\n",
    "        #imshow(out1,\"abc\")\n",
    "\n",
    "#print(numberOfSamples) #.\n",
    "x=[]\n",
    "y=[]\n",
    "\n",
    "for i in range (len(stats.bins)):\n",
    "    x.append(1/stats.binAmmount*i)\n",
    "    if(stats.bins[i].count==0): y.append(0)\n",
    "    else: \n",
    "        y.append(stats.bins[i].value/stats.bins[i].count)\n",
    "        print(stats.bins[i].value/stats.bins[i].count)\n",
    "plt.plot(x,y)\n",
    "plt.title(config.model_name_to_save)\n",
    "plt.xlabel(\"Epsilon\")\n",
    "plt.ylabel(\"EpsilonError\")\n",
    "plt.show()\n",
    "\n",
    "plt.plot(x, numberOfSamples) #.\n",
    "plt.ylabel('number of samples') #.\n",
    "plt.show() #.\n",
    "\n",
    "plt.plot(x, minError) #.\n",
    "plt.ylabel('min error') #.\n",
    "plt.show() #.\n",
    "\n",
    "plt.plot(x, maxError) #.\n",
    "plt.ylabel('max error') #.\n",
    "plt.show() #.\n",
    "#print(\"mean\", allDiffs/j)"
   ]
  },
  {
   "cell_type": "markdown",
   "metadata": {
    "id": "FfAm6PCuO6Pj"
   },
   "source": [
    "Future ..\n",
    "---\n",
    "---\n",
    "---\n",
    "\n",
    "\n",
    "\n"
   ]
  },
  {
   "cell_type": "code",
   "execution_count": null,
   "metadata": {
    "id": "a7rch7QQO6Pk"
   },
   "outputs": [],
   "source": [
    "#todo zamrozic i odmrozic .\n",
    "model_conv = torchvision.models.resnet18(pretrained=True)\n",
    "for param in model_conv.parameters():\n",
    "    param.requires_grad = False\n",
    "\n",
    "# Parameters of newly constructed modules have requires_grad=True by default\n",
    "num_ftrs = model_conv.fc.in_features\n",
    "model_conv.fc = nn.Linear(num_ftrs, 2)\n",
    "\n",
    "model_conv = model_conv.to(device)\n",
    "\n",
    "criterion = nn.CrossEntropyLoss()\n",
    "\n",
    "# Observe that only parameters of final layer are being optimized as\n",
    "# opposed to before.\n",
    "optimizer_conv = optim.SGD(model_conv.fc.parameters(), lr=0.001, momentum=0.9)\n",
    "\n",
    "# Decay LR by a factor of 0.1 every 7 epochs\n",
    "exp_lr_scheduler = lr_scheduler.StepLR(optimizer_conv, step_size=7, gamma=0.1)\n",
    "\n",
    "model_conv = train_model(model_conv, criterion, optimizer_conv,\n",
    "                         exp_lr_scheduler, num_epochs=25)\n",
    "\n",
    "visualize_model(model_conv)\n",
    "\n",
    "plt.ioff()\n",
    "plt.show()"
   ]
  }
 ],
 "metadata": {
  "accelerator": "GPU",
  "colab": {
   "collapsed_sections": [],
   "name": "epsilon_main.ipynb",
   "provenance": []
  },
  "interpreter": {
   "hash": "26de051ba29f2982a8de78e945f0abaf191376122a1563185a90213a26c5da77"
  },
  "kernelspec": {
   "display_name": "Python 3.10.4 64-bit",
   "language": "python",
   "name": "python3"
  },
  "language_info": {
   "codemirror_mode": {
    "name": "ipython",
    "version": 3
   },
   "file_extension": ".py",
   "mimetype": "text/x-python",
   "name": "python",
   "nbconvert_exporter": "python",
   "pygments_lexer": "ipython3",
   "version": "3.10.4"
  }
 },
 "nbformat": 4,
 "nbformat_minor": 1
}
