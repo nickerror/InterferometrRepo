{
 "cells": [
  {
   "cell_type": "markdown",
   "metadata": {},
   "source": [
    "#Ładowanie zależności"
   ]
  },
  {
   "cell_type": "code",
   "execution_count": null,
   "metadata": {},
   "outputs": [],
   "source": [
    "from PIL import Image\n",
    "import cv2\n",
    "import numpy as np\n",
    "import math\n",
    "import os\n",
    "from numpy import loadtxt\n",
    "import glob\n",
    "import random\n",
    "from pathlib import Path\n"
   ]
  },
  {
   "cell_type": "markdown",
   "metadata": {},
   "source": [
    "#Porządkowanie zbioru zdjęć\n",
    "Początkowo należy uporządkować zbiór zdjęć. Zdjęcia numerowane są kolejnymi liczbami naturalnymi, zmienimy im nazwę na taką, która zawiera epsilony- łatwiej takie zdjęcia się przegląda. Plik z epsilonami oraz zdjęcia pakujemy do data/external."
   ]
  },
  {
   "cell_type": "code",
   "execution_count": null,
   "metadata": {},
   "outputs": [],
   "source": [
    "lines=loadtxt('data/external/c211021.txt')\n",
    "for i in range(lines.shape[0]):\n",
    "    \n",
    "    oldname='data/external/'+str(i).zfill(5)+'.png'\n",
    "    newname='data/external/'+ str(format(lines[i,1].astype(float),'.3f')).replace('.','_')+'__'+str(i).zfill(5)+'.png'\n",
    "    if (i%100==0) : print('o:', oldname,'   n: ', newname)\n",
    "    \n",
    "    os.rename(oldname,newname)"
   ]
  },
  {
   "cell_type": "markdown",
   "metadata": {},
   "source": [
    "#Generowanie szumów\n",
    "Kolejnym krokiem jest generowanie szumów. Generowane są na podstawie zbioru zdjęć wcześniej uporządkowanych. Poniżej kod na generowanie określonej liczby szumów na podstawie losowej liczby zdjec"
   ]
  },
  {
   "cell_type": "code",
   "execution_count": 79,
   "metadata": {},
   "outputs": [
    {
     "name": "stdout",
     "output_type": "stream",
     "text": [
      "Made  0 noise\n",
      "Made  10 noise\n",
      "Made  20 noise\n",
      "Made  30 noise\n",
      "Made  40 noise\n"
     ]
    },
    {
     "ename": "KeyboardInterrupt",
     "evalue": "",
     "output_type": "error",
     "traceback": [
      "\u001b[1;31m---------------------------------------------------------------------------\u001b[0m",
      "\u001b[1;31mKeyboardInterrupt\u001b[0m                         Traceback (most recent call last)",
      "\u001b[1;32m~\\AppData\\Local\\Temp/ipykernel_23912/587691772.py\u001b[0m in \u001b[0;36m<module>\u001b[1;34m\u001b[0m\n\u001b[0;32m     33\u001b[0m \u001b[1;33m\u001b[0m\u001b[0m\n\u001b[0;32m     34\u001b[0m \u001b[1;32mfor\u001b[0m \u001b[0mi\u001b[0m \u001b[1;32min\u001b[0m \u001b[0mrange\u001b[0m\u001b[1;33m(\u001b[0m\u001b[0mNoiseCount\u001b[0m\u001b[1;33m)\u001b[0m\u001b[1;33m:\u001b[0m\u001b[1;33m\u001b[0m\u001b[1;33m\u001b[0m\u001b[0m\n\u001b[1;32m---> 35\u001b[1;33m     \u001b[0mGenerateOneNoiseRamdomChoice\u001b[0m\u001b[1;33m(\u001b[0m\u001b[0mMinimumFotoCount\u001b[0m\u001b[1;33m,\u001b[0m\u001b[0mMaximumFotoCount\u001b[0m\u001b[1;33m,\u001b[0m\u001b[1;33m(\u001b[0m\u001b[0mformat\u001b[0m\u001b[1;33m(\u001b[0m\u001b[0mi\u001b[0m\u001b[1;33m/\u001b[0m\u001b[1;36m10000.0\u001b[0m\u001b[1;33m,\u001b[0m\u001b[1;34m'.4f'\u001b[0m\u001b[1;33m)\u001b[0m\u001b[1;33m)\u001b[0m\u001b[1;33m.\u001b[0m\u001b[0mreplace\u001b[0m\u001b[1;33m(\u001b[0m\u001b[1;34m\".\"\u001b[0m\u001b[1;33m,\u001b[0m\u001b[1;34m\"\"\u001b[0m\u001b[1;33m)\u001b[0m\u001b[1;33m,\u001b[0m \u001b[0mImageNames\u001b[0m\u001b[1;33m)\u001b[0m\u001b[1;33m\u001b[0m\u001b[1;33m\u001b[0m\u001b[0m\n\u001b[0m\u001b[0;32m     36\u001b[0m     \u001b[1;32mif\u001b[0m \u001b[1;33m(\u001b[0m\u001b[0mi\u001b[0m\u001b[1;33m%\u001b[0m\u001b[1;36m10\u001b[0m\u001b[1;33m==\u001b[0m\u001b[1;36m0\u001b[0m\u001b[1;33m)\u001b[0m\u001b[1;33m:\u001b[0m \u001b[0mprint\u001b[0m\u001b[1;33m(\u001b[0m\u001b[1;34m\"Made \"\u001b[0m\u001b[1;33m,\u001b[0m\u001b[0mi\u001b[0m\u001b[1;33m,\u001b[0m\u001b[1;34m\"noise\"\u001b[0m\u001b[1;33m)\u001b[0m\u001b[1;33m\u001b[0m\u001b[1;33m\u001b[0m\u001b[0m\n",
      "\u001b[1;32m~\\AppData\\Local\\Temp/ipykernel_23912/587691772.py\u001b[0m in \u001b[0;36mGenerateOneNoiseRamdomChoice\u001b[1;34m(fotoCountMin, fotoCountMax, noiseNumber, imageNames)\u001b[0m\n\u001b[0;32m     16\u001b[0m     \u001b[1;32mfor\u001b[0m \u001b[0mi\u001b[0m \u001b[1;32min\u001b[0m \u001b[0mrange\u001b[0m\u001b[1;33m(\u001b[0m\u001b[0mfotoCount\u001b[0m\u001b[1;33m)\u001b[0m\u001b[1;33m:\u001b[0m\u001b[1;33m\u001b[0m\u001b[1;33m\u001b[0m\u001b[0m\n\u001b[0;32m     17\u001b[0m         \u001b[0mrandomNumber\u001b[0m\u001b[1;33m=\u001b[0m\u001b[0mrandom\u001b[0m\u001b[1;33m.\u001b[0m\u001b[0mrandint\u001b[0m\u001b[1;33m(\u001b[0m\u001b[1;36m0\u001b[0m\u001b[1;33m,\u001b[0m\u001b[0mlen\u001b[0m\u001b[1;33m(\u001b[0m\u001b[0mimageNames\u001b[0m\u001b[1;33m)\u001b[0m\u001b[1;33m-\u001b[0m\u001b[1;36m1\u001b[0m\u001b[1;33m)\u001b[0m\u001b[1;33m\u001b[0m\u001b[1;33m\u001b[0m\u001b[0m\n\u001b[1;32m---> 18\u001b[1;33m         \u001b[0mRead\u001b[0m\u001b[1;33m=\u001b[0m\u001b[0mnp\u001b[0m\u001b[1;33m.\u001b[0m\u001b[0marray\u001b[0m\u001b[1;33m(\u001b[0m\u001b[0mcv2\u001b[0m\u001b[1;33m.\u001b[0m\u001b[0mimread\u001b[0m\u001b[1;33m(\u001b[0m\u001b[0mExternalsFolder\u001b[0m\u001b[1;33m+\u001b[0m\u001b[0mimageNames\u001b[0m\u001b[1;33m[\u001b[0m\u001b[0mrandomNumber\u001b[0m\u001b[1;33m]\u001b[0m\u001b[1;33m)\u001b[0m\u001b[1;33m)\u001b[0m\u001b[1;33m\u001b[0m\u001b[1;33m\u001b[0m\u001b[0m\n\u001b[0m\u001b[0;32m     19\u001b[0m         \u001b[0mRead\u001b[0m\u001b[1;33m=\u001b[0m\u001b[0mRead\u001b[0m\u001b[1;33m[\u001b[0m\u001b[1;36m4\u001b[0m\u001b[1;33m:\u001b[0m\u001b[1;36m484\u001b[0m\u001b[1;33m,\u001b[0m\u001b[1;36m4\u001b[0m\u001b[1;33m:\u001b[0m\u001b[1;36m644\u001b[0m\u001b[1;33m,\u001b[0m\u001b[1;36m0\u001b[0m\u001b[1;33m]\u001b[0m\u001b[1;33m\u001b[0m\u001b[1;33m\u001b[0m\u001b[0m\n\u001b[0;32m     20\u001b[0m         \u001b[0mReadMean\u001b[0m\u001b[1;33m=\u001b[0m\u001b[0mnp\u001b[0m\u001b[1;33m.\u001b[0m\u001b[0mmean\u001b[0m\u001b[1;33m(\u001b[0m\u001b[0mRead\u001b[0m\u001b[1;33m)\u001b[0m\u001b[1;33m\u001b[0m\u001b[1;33m\u001b[0m\u001b[0m\n",
      "\u001b[1;31mKeyboardInterrupt\u001b[0m: "
     ]
    }
   ],
   "source": [
    "NoiseCount=1000\n",
    "MinimumFotoCount=50\n",
    "MaximumFotoCount=150\n",
    "ExternalsFolder=str(Path().resolve().parent)+\"\\\\data\\\\external\\\\\"\n",
    "PathToNoise=str(Path().resolve().parent)+\"\\\\data\\\\interim\\\\noise\\\\\"\n",
    "try:\n",
    "    os.mkdir(PathToNoise, 0o666)\n",
    "except OSError as error:\n",
    "    a=1\n",
    "\n",
    "ImageNames=[]\n",
    "def GenerateOneNoiseRamdomChoice(fotoCountMin, fotoCountMax, noiseNumber, imageNames):\n",
    "    fotoCount=random.randint(fotoCountMin, fotoCountMax)\n",
    "    Combined=np.zeros((480,640))\n",
    "            \n",
    "    for i in range(fotoCount):\n",
    "        randomNumber=random.randint(0,len(imageNames)-1)\n",
    "        Read=np.array(cv2.imread(ExternalsFolder+imageNames[randomNumber]))\n",
    "        Read=Read[4:484,4:644,0]\n",
    "        ReadMean=np.mean(Read)\n",
    "        Combined=(Combined+Read)#-ReadMean\n",
    "        #if (i%100==0): print(i)\n",
    "    Combined=Combined/fotoCount\n",
    "    Combined=Combined.astype(np.uint8)\n",
    "\n",
    "    Noise=Image.fromarray(Combined)\n",
    "    Noise.save(PathToNoise+str(noiseNumber)+\".png\")\n",
    "\n",
    "for filename in os.listdir(ExternalsFolder):\n",
    "        #img = cv2.imread(os.path.join(dir,filename))\n",
    "        #if img is not None:\n",
    "        if(filename.__contains__(\".png\") ): ImageNames.append(filename)\n",
    "\n",
    "for i in range(NoiseCount):\n",
    "    GenerateOneNoiseRamdomChoice(MinimumFotoCount,MaximumFotoCount,(format(i/10000.0,'.4f')).replace(\".\",\"\"), ImageNames)\n",
    "    if (i%10==0): print(\"Made \",i,\"noise\")"
   ]
  },
  {
   "cell_type": "markdown",
   "metadata": {},
   "source": [
    "#Generowanie zdjęć z szumem\n",
    "\n",
    "Najpierw funkcje pomocnicze, potem generator"
   ]
  },
  {
   "cell_type": "code",
   "execution_count": 81,
   "metadata": {},
   "outputs": [
    {
     "name": "stdout",
     "output_type": "stream",
     "text": [
      "Generated 0 image\n",
      "Generated 10 image\n",
      "Generated 20 image\n",
      "Generated 30 image\n",
      "Generated 40 image\n",
      "Generated 50 image\n",
      "Generated 60 image\n",
      "Generated 70 image\n",
      "Generated 80 image\n",
      "Generated 90 image\n"
     ]
    }
   ],
   "source": [
    "def GenerateImage(w,h,middleX,middleY,ringsDifference,epsilon,pixelMax,pixelMin,pixelBrightnessMaxNoise, noiseFilesPaths):\n",
    "  pixelMean=(pixelMax+pixelMin)/2\n",
    "  pixelDiff=pixelMax-pixelMean\n",
    "  pixelNoise=random.randint(-pixelBrightnessMaxNoise, pixelBrightnessMaxNoise)\n",
    "  data=np.ones((h,w))\n",
    "  data=data[:,:]*pixelMean\n",
    "  for x in range (w):\n",
    "    for y in range(h):\n",
    "      data[y,x]=data[y,x]+(pixelDiff*math.cos( 2*math.pi*( epsilon+ ((pow((x-middleX)*2,2)+pow((y-middleY)*2,2)) /ringsDifference))))+pixelNoise\n",
    "    #print(\"x: \",x,\", y:  \",y,\", data:  \",data[x,y], \"liczba \" , 2*math.pi*( ((pow((x-w/2)*2,2)+pow((y-h/2)*2,2)) /RingsDifference)))\n",
    "  data=data.astype(np.uint8)\n",
    "  return Noising(data, noiseFilesPaths)\n",
    "\n",
    "def Noising(generated, noiseFilesPaths):\n",
    "    randomNoiseInterator=random.randint(0,len(noiseFilesPaths)-1)\n",
    "    noise=np.array(cv2.imread(noiseFilesPaths[randomNoiseInterator]))\n",
    "    noise=noise[:,:,0]\n",
    "    noiseMean=np.mean(noise)\n",
    "    differ=-(noise-noiseMean)\n",
    "    generated=generated[:,:]\n",
    "    generated=generated-differ\n",
    "    generated=np.clip(generated,0,255)\n",
    "    generated=generated.astype(np.uint8)\n",
    "    noised=Image.fromarray(generated)\n",
    "    return noised\n",
    "    #noised.save(\"NoisedImage.png\")\n",
    "\n",
    "\n",
    "ImagesToGenerateNumber=100\n",
    "W = 640 #width\n",
    "H = 480 #height\n",
    "RingsDifference=W*W/6 #Difference in squared distance from center between succesive stripes\n",
    "#57 600 #68 266\n",
    "MiddleXMaxVariation=50 #in pixels\n",
    "MiddleYMaxVariation=50 #in pisels\n",
    "EpsilonMin=0\n",
    "EpsilonMax=0.9999\n",
    "PixelBrightnessMaxNoise=5 #in number, +- that value\n",
    "\n",
    "PixelMaxUpperLimit=210  #upper limit max brightness of pixel, 8bit-> 0-255\n",
    "PixelMaxLowerLimit=170  #lower limit max brightness of pixel, 8bit-> 0-255\n",
    "\n",
    "PixelMinUpperLimit=120 #upper limit min brightness of pixe, 8bit-> 0-255\n",
    "PixelMinLowerLimit=80 #lower limit min brightness of pixe, 8bit-> 0-255\n",
    "\n",
    "MiddleX=W/2 #Middle of centre, X axis\n",
    "MiddleY=H/2 #Middle of centre, Y axis\n",
    "#epsilon=0 #set epsilon\n",
    "#Epsilons=np.arange(1.0)/1000.0\n",
    "\n",
    "GeneratedFolder=str(Path().resolve().parent)+\"\\\\data\\\\generated\\\\\"\n",
    "PathToNoiseFolder=str(Path().resolve().parent)+\"\\\\data\\\\interim\\\\noise\\\\\"\n",
    "NoiseFilesPaths=[]\n",
    "#generating noises list\n",
    "for filename in os.listdir(PathToNoiseFolder):\n",
    "        #img = cv2.imread(os.path.join(dir,filename))\n",
    "        #if img is not None:\n",
    "        if(filename.__contains__(\".png\") ): NoiseFilesPaths.append(str(PathToNoiseFolder)+str(filename))\n",
    "\n",
    "\n",
    "for i in range(ImagesToGenerateNumber):\n",
    "    epsilon=random.randint(EpsilonMin*10000,EpsilonMax*10000)/10000.0\n",
    "    middleXVariation=random.randint(-MiddleXMaxVariation,MiddleXMaxVariation)\n",
    "    middleYVariation=random.randint(-MiddleYMaxVariation, MiddleYMaxVariation)\n",
    "    pixelMax=random.randint(PixelMaxLowerLimit, PixelMaxUpperLimit)\n",
    "    pixelMin=random.randint(PixelMinLowerLimit, PixelMinUpperLimit)\n",
    "\n",
    "    middleX=MiddleX+middleXVariation\n",
    "    middleY=MiddleY+middleYVariation\n",
    "    #print(middleX)\n",
    "    img=GenerateImage(W,H,middleX,middleY,RingsDifference,epsilon,pixelMax,pixelMin,PixelBrightnessMaxNoise, NoiseFilesPaths)\n",
    "\n",
    "    img.save(GeneratedFolder+(format(i/10000.0,'.4f')).replace(\".\",\"\")+\"_\"+(format(epsilon,'.4f')).replace(\".\",\"_\")+\".png\")\n",
    "    if(i%10==0): print(\"Generated\",i, \"image\")\n",
    "\n"
   ]
  }
 ],
 "metadata": {
  "interpreter": {
   "hash": "87395d5d8bfde01d46c70ac6ba33243e65d3e8bd83f484ce57906cf4cb49b746"
  },
  "kernelspec": {
   "display_name": "Python 3.8.3 64-bit",
   "language": "python",
   "name": "python3"
  },
  "language_info": {
   "codemirror_mode": {
    "name": "ipython",
    "version": 3
   },
   "file_extension": ".py",
   "mimetype": "text/x-python",
   "name": "python",
   "nbconvert_exporter": "python",
   "pygments_lexer": "ipython3",
   "version": "3.8.3"
  },
  "orig_nbformat": 4
 },
 "nbformat": 4,
 "nbformat_minor": 2
}
